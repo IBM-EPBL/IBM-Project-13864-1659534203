{
  "nbformat": 4,
  "nbformat_minor": 0,
  "metadata": {
    "colab": {
      "provenance": []
    },
    "kernelspec": {
      "name": "python3",
      "display_name": "Python 3"
    },
    "language_info": {
      "name": "python"
    }
  },
  "cells": [
    {
      "cell_type": "markdown",
      "source": [
        "## **ASSIGNMENT-3**\n",
        "\n",
        "Answer the questions or complete the tasks outlined in bold below, use the specific method described if applicable.\n",
        "\n",
        "**What is 7 to the power of 4?**"
      ],
      "metadata": {
        "id": "7vxRDigHn0iz"
      }
    },
    {
      "cell_type": "code",
      "source": [
        "print(7*7*7*7)"
      ],
      "metadata": {
        "colab": {
          "base_uri": "https://localhost:8080/"
        },
        "id": "AxPPs70no4iJ",
        "outputId": "6573e283-fbc2-418c-dcf6-7a6f348f1f5d"
      },
      "execution_count": 1,
      "outputs": [
        {
          "output_type": "stream",
          "name": "stdout",
          "text": [
            "2401\n"
          ]
        }
      ]
    },
    {
      "cell_type": "markdown",
      "source": [
        "### **Split this string:**\n",
        "\n",
        "  s = \"Hi there Sam!\" into a list."
      ],
      "metadata": {
        "id": "KofqpgqCpGbu"
      }
    },
    {
      "cell_type": "code",
      "source": [
        "s = \"Hi there Sam!\"\n",
        "s.split()"
      ],
      "metadata": {
        "colab": {
          "base_uri": "https://localhost:8080/"
        },
        "id": "zp71Mid1pWw8",
        "outputId": "d8478a1f-713a-45e7-bb1c-c30bf699449f"
      },
      "execution_count": 2,
      "outputs": [
        {
          "output_type": "execute_result",
          "data": {
            "text/plain": [
              "['Hi', 'there', 'Sam!']"
            ]
          },
          "metadata": {},
          "execution_count": 2
        }
      ]
    }
  ]
}