{
  "nbformat": 4,
  "nbformat_minor": 0,
  "metadata": {
    "colab": {
      "provenance": []
    },
    "kernelspec": {
      "name": "python3",
      "display_name": "Python 3"
    },
    "language_info": {
      "name": "python"
    }
  },
  "cells": [
    {
      "cell_type": "markdown",
      "source": [
        "## **ASSIGNMENT-3**\n",
        "\n",
        "Answer the questions or complete the tasks outlined in bold below, use the specific method described if applicable.\n",
        "\n",
        "### **What is 7 to the power of 4?**"
      ],
      "metadata": {
        "id": "7vxRDigHn0iz"
      }
    },
    {
      "cell_type": "code",
      "source": [
        "print(7*7*7*7)"
      ],
      "metadata": {
        "colab": {
          "base_uri": "https://localhost:8080/"
        },
        "id": "AxPPs70no4iJ",
        "outputId": "6573e283-fbc2-418c-dcf6-7a6f348f1f5d"
      },
      "execution_count": null,
      "outputs": [
        {
          "output_type": "stream",
          "name": "stdout",
          "text": [
            "2401\n"
          ]
        }
      ]
    },
    {
      "cell_type": "markdown",
      "source": [
        "### **Split this string:**\n",
        "\n",
        "  s = \"Hi there Sam!\" into a list."
      ],
      "metadata": {
        "id": "KofqpgqCpGbu"
      }
    },
    {
      "cell_type": "code",
      "source": [
        "s = \"Hi there Sam!\"\n",
        "s.split()"
      ],
      "metadata": {
        "colab": {
          "base_uri": "https://localhost:8080/"
        },
        "id": "zp71Mid1pWw8",
        "outputId": "d8478a1f-713a-45e7-bb1c-c30bf699449f"
      },
      "execution_count": null,
      "outputs": [
        {
          "output_type": "execute_result",
          "data": {
            "text/plain": [
              "['Hi', 'there', 'Sam!']"
            ]
          },
          "metadata": {},
          "execution_count": 2
        }
      ]
    },
    {
      "cell_type": "markdown",
      "source": [
        "### **Given the variables:**\n",
        "\n",
        "      planet = \"Earth\"\n",
        "      diameter = 12742 \n",
        "\n",
        "Use .format() to print the following string:\n",
        "\n",
        "The diameter of Earth is 12742 kilometers."
      ],
      "metadata": {
        "id": "iD2vy-dXqWQd"
      }
    },
    {
      "cell_type": "code",
      "source": [
        "planet = \"Earth\"\n",
        "diameter=\"The diameter of {} is 12742 kilometers\".format(planet)\n",
        "print(diameter)"
      ],
      "metadata": {
        "colab": {
          "base_uri": "https://localhost:8080/"
        },
        "id": "WIZRnfGhtNjx",
        "outputId": "d66818e9-ce2d-4b6d-ac80-5bdcc617771a"
      },
      "execution_count": null,
      "outputs": [
        {
          "output_type": "stream",
          "name": "stdout",
          "text": [
            "The diameter of Earth is 12742 kilometers\n"
          ]
        }
      ]
    },
    {
      "cell_type": "markdown",
      "source": [
        "### **Given this nested list, use indexing to grab the word \"hello\"**"
      ],
      "metadata": {
        "id": "t0_Sf_kJtRm1"
      }
    },
    {
      "cell_type": "code",
      "source": [
        "lst = [1,2,[3,4],[5,[100,200,['hello']],23,11],1,7]\n",
        "lst[3][1][2]"
      ],
      "metadata": {
        "colab": {
          "base_uri": "https://localhost:8080/"
        },
        "id": "Byfb6pj1tYrF",
        "outputId": "8c2f8b01-6ec2-447c-880d-7d6b401c2e21"
      },
      "execution_count": null,
      "outputs": [
        {
          "output_type": "execute_result",
          "data": {
            "text/plain": [
              "['hello']"
            ]
          },
          "metadata": {},
          "execution_count": 5
        }
      ]
    },
    {
      "cell_type": "markdown",
      "source": [
        "### **Given this nest dictionary grab the word \"hello\". Be prepared, this will be annoying/tricky**"
      ],
      "metadata": {
        "id": "wXFjcBrvuCD6"
      }
    },
    {
      "cell_type": "code",
      "source": [
        "d = {'k1':[1,2,3,{'tricky':['oh','man','inception',{'target':[1,2,3,'hello']}]}]}\n",
        "d[\"k1\"][3][\"tricky\"][3][\"target\"][3]"
      ],
      "metadata": {
        "colab": {
          "base_uri": "https://localhost:8080/",
          "height": 36
        },
        "id": "Xocsbl7RuFB-",
        "outputId": "5c701b2b-70d3-4730-eeb5-97ac3a702767"
      },
      "execution_count": null,
      "outputs": [
        {
          "output_type": "execute_result",
          "data": {
            "text/plain": [
              "'hello'"
            ],
            "application/vnd.google.colaboratory.intrinsic+json": {
              "type": "string"
            }
          },
          "metadata": {},
          "execution_count": 6
        }
      ]
    },
    {
      "cell_type": "markdown",
      "source": [
        "### **What is the main difference between a tuple and a list?**"
      ],
      "metadata": {
        "id": "2I7srvtjuLa3"
      }
    },
    {
      "cell_type": "code",
      "source": [
        "#The main differences between lists and tuples are,Lists are enclosed in brackets([]) and their elements and size can be changed,while tuples are enclosed in parentheses"
      ],
      "metadata": {
        "id": "pRAhtLE8uOz0"
      },
      "execution_count": null,
      "outputs": []
    },
    {
      "cell_type": "markdown",
      "source": [
        "### **Create a function that grabs the email website domain from a string in the form:**\n",
        "\n",
        "    user@domain.com\n",
        "\n",
        "### **So for example, passing \"user@domain.com\" would return: domain.com**"
      ],
      "metadata": {
        "id": "8xxbw8dHumNf"
      }
    },
    {
      "cell_type": "code",
      "source": [
        "def domainGet(email):\n",
        "    print(\"Your domain is: \" + email.split('@')[-1])\n",
        "\n",
        "email = input(\"Please enter your email: >\")\n",
        "domainGet(email)"
      ],
      "metadata": {
        "colab": {
          "base_uri": "https://localhost:8080/"
        },
        "id": "jytMEgCtu8WZ",
        "outputId": "4d98ad9e-2717-4391-cc7c-4cfcbb9e8e30"
      },
      "execution_count": null,
      "outputs": [
        {
          "output_type": "stream",
          "name": "stdout",
          "text": [
            "Please enter your email: >Ajithnarayana@gmail.com\n",
            "Your domain is: gmail.com\n"
          ]
        }
      ]
    },
    {
      "cell_type": "markdown",
      "source": [
        "### **Create a basic function that returns True if the word 'dog' is contained in the input string. Don't worry about edge cases like a punctuation being attached to the word dog, but do account for capitalization.**"
      ],
      "metadata": {
        "id": "b6ijKn5SvMc-"
      }
    },
    {
      "cell_type": "code",
      "source": [
        "def findDog(st):\n",
        "    if 'dog' in st.lower():\n",
        "        print(\"True\")\n",
        "    else:\n",
        "        print(\"False\")\n",
        "st = \"I take a walk with my dog\"\n",
        "findDog(st)"
      ],
      "metadata": {
        "colab": {
          "base_uri": "https://localhost:8080/"
        },
        "id": "u2hnftkpvO7T",
        "outputId": "002731e7-b9b3-4f94-9446-d5910d384fe9"
      },
      "execution_count": null,
      "outputs": [
        {
          "output_type": "stream",
          "name": "stdout",
          "text": [
            "True\n"
          ]
        }
      ]
    },
    {
      "cell_type": "markdown",
      "source": [
        "### **Create a function that counts the number of times the word \"dog\" occurs in a string. Again ignore edge cases.**"
      ],
      "metadata": {
        "id": "-O4Xe4lbvZfx"
      }
    },
    {
      "cell_type": "code",
      "source": [
        "value = \"My neighbor's dog won't eat dry dog food\";\n",
        "def countdogs(value):\n",
        "    count = 0\n",
        "    for word in value.lower().split():\n",
        "        if word == 'dog' or word == 'dogs':\n",
        "            count = count + 1\n",
        "            print(count)\n",
        "\n",
        "countdogs(value)"
      ],
      "metadata": {
        "colab": {
          "base_uri": "https://localhost:8080/"
        },
        "id": "PhUJWH-UvbIU",
        "outputId": "08e567ac-0f76-435c-e977-ece3c0a6d178"
      },
      "execution_count": null,
      "outputs": [
        {
          "output_type": "stream",
          "name": "stdout",
          "text": [
            "1\n",
            "2\n"
          ]
        }
      ]
    },
    {
      "cell_type": "markdown",
      "source": [
        "\n",
        "### **Problem**\n",
        "**You are driving a little too fast, and a police officer stops you. Write a function to return one of 3 possible results: \"No ticket\", \"Small ticket\", or \"Big Ticket\". If your speed is 60 or less, the result is \"No Ticket\". If speed is between 61 and 80 inclusive, the result is \"Small Ticket\". If speed is 81 or more, the result is \"Big Ticket\". Unless it is your birthday (encoded as a boolean value in the parameters of the function) -- on your birthday, your speed can be 5 higher in all cases.**"
      ],
      "metadata": {
        "id": "72eFNsZwvknF"
      }
    },
    {
      "cell_type": "code",
      "source": [
        "def caught_speeding(speed, is_birthday):\n",
        "    \n",
        "    if is_birthday:\n",
        "        speeding = speed - 5\n",
        "    else:\n",
        "        speeding = speed\n",
        "    \n",
        "    if speeding > 80:\n",
        "        return 'Big Ticket'\n",
        "    elif speeding > 60:\n",
        "        return 'Small Ticket'\n",
        "    else:\n",
        "        return 'No Ticket'"
      ],
      "metadata": {
        "id": "GC4p9Ma7vphU"
      },
      "execution_count": null,
      "outputs": []
    },
    {
      "cell_type": "code",
      "source": [
        "caught_speeding(91,False)\n"
      ],
      "metadata": {
        "colab": {
          "base_uri": "https://localhost:8080/",
          "height": 36
        },
        "id": "NxSi2lPJvwXN",
        "outputId": "1f0dbc0d-29d2-47a2-9f1a-eb3607cf307c"
      },
      "execution_count": null,
      "outputs": [
        {
          "output_type": "execute_result",
          "data": {
            "text/plain": [
              "'Big Ticket'"
            ],
            "application/vnd.google.colaboratory.intrinsic+json": {
              "type": "string"
            }
          },
          "metadata": {},
          "execution_count": 13
        }
      ]
    },
    {
      "cell_type": "code",
      "source": [
        "speed=\"Your speed is more than 81\"\n",
        "caught_speeding(81,True)"
      ],
      "metadata": {
        "colab": {
          "base_uri": "https://localhost:8080/",
          "height": 36
        },
        "id": "NlrqyyiRv3IF",
        "outputId": "694eaf8b-dc55-46c7-f2b4-5c00c2274259"
      },
      "execution_count": null,
      "outputs": [
        {
          "output_type": "execute_result",
          "data": {
            "text/plain": [
              "'Small Ticket'"
            ],
            "application/vnd.google.colaboratory.intrinsic+json": {
              "type": "string"
            }
          },
          "metadata": {},
          "execution_count": 14
        }
      ]
    },
    {
      "cell_type": "markdown",
      "source": [
        "### **Create an employee list with basic salary values(at least 5 values for 5 employees) and using a for loop retreive each employee salary and calculate total salary expenditure.**\n",
        "\n"
      ],
      "metadata": {
        "id": "03s32o-Ov9JO"
      }
    },
    {
      "cell_type": "code",
      "source": [
        "employee_names = [\"Ajith\", \"Narayana\", \"Gowtham\", \"venkat\", \"Niranjan\"]\n",
        "employee_salaries = {}\n",
        "for employee in employee_names:\n",
        "    while True: # Input validation loop\n",
        "        try:\n",
        "            employee_salaries[employee] = int(input(f\"Enter {employee}'s salary: \")) \n",
        "            break\n",
        "        except ValueError:\n",
        "            print(\"Invalid input\")\n",
        "    print(employee_salaries)\n",
        "    total = sum(employee_salaries.values())\n",
        "    print(total)"
      ],
      "metadata": {
        "colab": {
          "base_uri": "https://localhost:8080/"
        },
        "id": "qFECWtw_wH5x",
        "outputId": "27eca4ff-4815-4fbd-cc45-e6a2591a1bea"
      },
      "execution_count": null,
      "outputs": [
        {
          "output_type": "stream",
          "name": "stdout",
          "text": [
            "Enter Ajith's salary: 2200000\n",
            "{'Ajith': 2200000}\n",
            "2200000\n",
            "Enter Narayana's salary: 2200000\n",
            "{'Ajith': 2200000, 'Narayana': 2200000}\n",
            "4400000\n",
            "Enter Gowtham's salary: 2500000\n",
            "{'Ajith': 2200000, 'Narayana': 2200000, 'Gowtham': 2500000}\n",
            "6900000\n",
            "Enter venkat's salary: 2600000\n",
            "{'Ajith': 2200000, 'Narayana': 2200000, 'Gowtham': 2500000, 'venkat': 2600000}\n",
            "9500000\n",
            "Enter Niranjan's salary: 2700000\n",
            "{'Ajith': 2200000, 'Narayana': 2200000, 'Gowtham': 2500000, 'venkat': 2600000, 'Niranjan': 2700000}\n",
            "12200000\n"
          ]
        }
      ]
    },
    {
      "cell_type": "markdown",
      "source": [
        "### **Create two dictionaries in Python:**\n",
        "\n",
        "**one to contain fields as Empid, Empname, Basicpay**\n",
        "\n",
        "**Second dictionary to contain fields as DeptName, DeptId.**\n",
        "\n",
        " **Combine both dictionaries.**"
      ],
      "metadata": {
        "id": "gXafgh4Kw4ks"
      }
    },
    {
      "cell_type": "code",
      "source": [
        "d1={\"Empid\":101,\n",
        "    \"Empname\":'Ajith', \n",
        "    \"Basicpay\":1200000}\n",
        "d2={\"DeptName\":'CSE',  \n",
        "    \"DeptId\":199}\n",
        "print({**d1, **d2})"
      ],
      "metadata": {
        "colab": {
          "base_uri": "https://localhost:8080/"
        },
        "id": "PKAu_5uxxRJw",
        "outputId": "09bb9846-3edd-4c74-df33-7c035dccb64e"
      },
      "execution_count": null,
      "outputs": [
        {
          "output_type": "stream",
          "name": "stdout",
          "text": [
            "{'Empid': 101, 'Empname': 'Ajith', 'Basicpay': 1200000, 'DeptName': 'CSE', 'DeptId': 199}\n"
          ]
        }
      ]
    }
  ]
}